{
 "cells": [
  {
   "cell_type": "markdown",
   "id": "d39f3851-8163-45a2-a64f-88559c91b395",
   "metadata": {},
   "source": [
    "# Data Science Tools and Ecosystem"
   ]
  },
  {
   "cell_type": "markdown",
   "id": "d8a799d3-10cf-4c2d-a1b5-075d98b49fc1",
   "metadata": {},
   "source": [
    "In this notebook, Data Science Tools and Ecosystem are summarized."
   ]
  },
  {
   "cell_type": "markdown",
   "id": "e6ab7825-abac-472b-b789-f05b458654b7",
   "metadata": {},
   "source": [
    "**Objectives:**\n",
    "\n",
    "- List popular languages for Data Science\n",
    "- List commonly used libraries for Data Science\n",
    "- List open source Data Science Tools\n",
    "- Sample Arithmetic expression in Python\n",
    "- Sample Python code to convert hours to minutes"
   ]
  },
  {
   "cell_type": "markdown",
   "id": "0ba814af-c3c2-47fa-9e9e-fd5dcd6e7e79",
   "metadata": {},
   "source": [
    "Some of the popular languages that Data Scientists use are:\n",
    "1. Python\n",
    "2. R\n",
    "3. SCALA\n",
    "4. SQL"
   ]
  },
  {
   "cell_type": "markdown",
   "id": "c1125109-a8e2-4a2f-b5c7-6711cce9cc99",
   "metadata": {},
   "source": [
    "Some of the commonly used libraries used by Data Scientists include:\n",
    "1. numpy\n",
    "2. pandas\n",
    "3. matplotlib"
   ]
  },
  {
   "cell_type": "markdown",
   "id": "ba3e3d7c-86dc-48b3-872e-96a2f4f996d0",
   "metadata": {},
   "source": [
    "|Data Science Tools|\n",
    "----------------------\n",
    "|Jupyter Notebooks|\n",
    "|R Studio|\n",
    "|Pycharm|"
   ]
  },
  {
   "cell_type": "markdown",
   "id": "d87170a3-1414-49d7-9b53-9c4fcaf5a731",
   "metadata": {},
   "source": [
    "### Below are a few examples of evaluating arithmetic expressions in Python"
   ]
  },
  {
   "cell_type": "code",
   "execution_count": 2,
   "id": "b50fdcbc-0f76-42aa-ad27-7f3cbfa84ff8",
   "metadata": {
    "tags": []
   },
   "outputs": [
    {
     "data": {
      "text/plain": [
       "17"
      ]
     },
     "execution_count": 2,
     "metadata": {},
     "output_type": "execute_result"
    }
   ],
   "source": [
    "# This a simple arithmetic expression to mutiply then add integers\n",
    "(3*4)+5"
   ]
  },
  {
   "cell_type": "code",
   "execution_count": 3,
   "id": "14425ec6-8466-4cdd-b2b7-5b016d333cdb",
   "metadata": {
    "tags": []
   },
   "outputs": [
    {
     "data": {
      "text/plain": [
       "3.3333333333333335"
      ]
     },
     "execution_count": 3,
     "metadata": {},
     "output_type": "execute_result"
    }
   ],
   "source": [
    "# This will convert 200 minutes to hours by diving by 60\n",
    "200/60"
   ]
  },
  {
   "cell_type": "markdown",
   "id": "7e9e8ead-c9e6-4a47-8034-f5ee2611d082",
   "metadata": {},
   "source": [
    "## Author\n",
    "Saichandra Srivatsav Goturu"
   ]
  },
  {
   "cell_type": "code",
   "execution_count": null,
   "id": "7ef840dd-8758-4888-b82d-6913aea3d2a9",
   "metadata": {},
   "outputs": [],
   "source": []
  }
 ],
 "metadata": {
  "kernelspec": {
   "display_name": "Python",
   "language": "python",
   "name": "conda-env-python-py"
  },
  "language_info": {
   "codemirror_mode": {
    "name": "ipython",
    "version": 3
   },
   "file_extension": ".py",
   "mimetype": "text/x-python",
   "name": "python",
   "nbconvert_exporter": "python",
   "pygments_lexer": "ipython3",
   "version": "3.7.12"
  }
 },
 "nbformat": 4,
 "nbformat_minor": 5
}
